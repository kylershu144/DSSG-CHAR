{
 "cells": [
  {
   "cell_type": "code",
   "execution_count": 1,
   "metadata": {},
   "outputs": [
    {
     "name": "stderr",
     "output_type": "stream",
     "text": [
      "c:\\Users\\kylershu\\.conda\\envs\\dssg_dev\\Lib\\site-packages\\tqdm\\auto.py:21: TqdmWarning: IProgress not found. Please update jupyter and ipywidgets. See https://ipywidgets.readthedocs.io/en/stable/user_install.html\n",
      "  from .autonotebook import tqdm as notebook_tqdm\n"
     ]
    }
   ],
   "source": [
    "import geopandas as gpd\n",
    "import psycopg2\n",
    "import yaml\n",
    "from sklearn.ensemble import RandomForestClassifier, GradientBoostingClassifier, HistGradientBoostingClassifier\n",
    "from sklearn.model_selection import GridSearchCV, train_test_split, StratifiedKFold, GroupShuffleSplit, GroupKFold, StratifiedGroupKFold\n",
    "from sklearn.preprocessing import StandardScaler, OneHotEncoder\n",
    "from sklearn.compose import ColumnTransformer\n",
    "from sklearn.pipeline import Pipeline\n",
    "from sklearn.metrics import f1_score, make_scorer, recall_score, precision_score, RocCurveDisplay\n",
    "from sklearn.svm import SVC\n",
    "import pandas as pd\n",
    "import numpy as np\n",
    "import matplotlib.pyplot as plt\n",
    "import shap\n",
    "import seaborn as sns\n",
    "import pickle\n"
   ]
  },
  {
   "cell_type": "code",
   "execution_count": 2,
   "metadata": {},
   "outputs": [],
   "source": [
    "def read_yaml(file_path):\n",
    "    \"\"\"\n",
    "    read in config file.  All options and adjustments should be made to config file.\n",
    "    input: yaml file path\n",
    "    output: dictionary\n",
    "    \"\"\"\n",
    "    with open(file_path, \"r\") as f:\n",
    "        return yaml.safe_load(f)"
   ]
  },
  {
   "cell_type": "code",
   "execution_count": 3,
   "metadata": {},
   "outputs": [
    {
     "name": "stderr",
     "output_type": "stream",
     "text": [
      "c:\\Users\\kylershu\\.conda\\envs\\dssg_dev\\Lib\\site-packages\\geopandas\\io\\sql.py:185: UserWarning: pandas only supports SQLAlchemy connectable (engine/connection) or database string URI or sqlite3 DBAPI2 connection. Other DBAPI2 objects are not tested. Please consider using SQLAlchemy.\n",
      "  df = pd.read_sql(\n"
     ]
    }
   ],
   "source": [
    "# reading in char alerts data\n",
    "conn_creds = read_yaml('C:\\\\DSSG_CHAR\\\\Configs\\\\db_conn.yaml')\n",
    "\n",
    "connection = psycopg2.connect(\n",
    "    dbname=conn_creds['dbname'],\n",
    "    user=conn_creds['user'],\n",
    "    password=conn_creds['password'],\n",
    "    host=conn_creds['address']\n",
    ")\n",
    "'''\n",
    "sql = {}\n",
    "sql['select'] = \"SELECT g.id, g.feature_type, g.properties, s.adm_level, s.adm_name, s.geometry\"\n",
    "sql['from'] = \"FROM geospatial_view as g\"\n",
    "sql['join'] = \"JOIN adm_division as s\"\n",
    "sql['on'] = \"ON ST_intersects(g.wkb_geometry, s.geometry)\"\n",
    "sql['where'] = \"WHERE s.adm_name = 'Cerrado' and g.feature_type = 'watermass'\"\n",
    "sql['limit'] = \"LIMIT 500;\"\n",
    "sql_text = ' '.join(sql.values())\n",
    "'''\n",
    "sql_text = \"SELECT * FROM char_alerts;\"\n",
    "df = gpd.GeoDataFrame.from_postgis(sql_text, connection, geom_col='geometry')"
   ]
  },
  {
   "cell_type": "code",
   "execution_count": 4,
   "metadata": {},
   "outputs": [],
   "source": [
    "# creating unique x_tile y_tile combination for spatial grouping\n",
    "df['loc'] = df['x_tile'].astype(str) + ',' + df['y_tile'].astype(str)\n",
    "df['loc'].value_counts()\n",
    "df[\"validation\"] = df[\"validation\"].apply(lambda x: 1 if x else 0)"
   ]
  },
  {
   "cell_type": "code",
   "execution_count": 5,
   "metadata": {},
   "outputs": [
    {
     "data": {
      "text/plain": [
       "Index(['geo_id', 'x_tile', 'y_tile', 'geo_month', 'geo_year', 'model_score',\n",
       "       'validation', 'data_source', 'area', 'centroid', 'geometry', 'loc',\n",
       "       'Distance to nearest rural road', 'Distance to nearest watermass',\n",
       "       'Distance to nearest town', 'Distance to nearest vila',\n",
       "       'Distance to nearest rural settlements',\n",
       "       'Distance to nearest mineral extraction point',\n",
       "       'Distance to nearest landing path', 'Distance to nearest island',\n",
       "       'Distance to nearest densely infrastructured area',\n",
       "       'Distance to nearest ibama embargo',\n",
       "       'Distance to nearest indigenous lands',\n",
       "       'Distance to nearest official roads',\n",
       "       'Distance to nearest deforestation permit',\n",
       "       'Distance to nearest biomas alert', 'Char alerts within 10km',\n",
       "       'MPB alerts within 10km'],\n",
       "      dtype='object')"
      ]
     },
     "execution_count": 5,
     "metadata": {},
     "output_type": "execute_result"
    }
   ],
   "source": [
    "df_all = pd.read_parquet(r'c:\\DSSG_CHAR\\Intermediate_Data_Sets\\all_distances.parquet')\n",
    "df = df.merge(df_all, on='geo_id')\n",
    "df.columns"
   ]
  },
  {
   "cell_type": "code",
   "execution_count": 6,
   "metadata": {},
   "outputs": [
    {
     "data": {
      "text/plain": [
       "\"\\n# number of deforestation alerts within a 10km radius\\ndf_mpb_10km = pd.read_csv(r'c:\\\\DSSG_CHAR\\\\Intermediate_Data_Sets\\x08iomas_count_to_char_alerts.csv')\\ndf_mpb_10km = pd.DataFrame(df_mpb_10km['geo_id'].value_counts())\\ndf = df.merge(df_mpb_10km, on='geo_id', how='left')\\ndf['count']=df['count'].fillna(0)\\n\""
      ]
     },
     "execution_count": 6,
     "metadata": {},
     "output_type": "execute_result"
    }
   ],
   "source": [
    "# OLD DATA STUFF\n",
    "'''\n",
    "# number of deforestation alerts within a 10km radius\n",
    "df_mpb_10km = pd.read_csv(r'c:\\DSSG_CHAR\\Intermediate_Data_Sets\\biomas_count_to_char_alerts.csv')\n",
    "df_mpb_10km = pd.DataFrame(df_mpb_10km['geo_id'].value_counts())\n",
    "df = df.merge(df_mpb_10km, on='geo_id', how='left')\n",
    "df['count']=df['count'].fillna(0)\n",
    "'''"
   ]
  },
  {
   "cell_type": "code",
   "execution_count": 6,
   "metadata": {},
   "outputs": [],
   "source": [
    "# car registry + deforestation permits\n",
    "df_car = pd.read_csv(r'c:\\DSSG_CHAR\\Intermediate_Data_Sets\\car_deforest.csv')\n",
    "df_car['car_status'] = df_car['ind_status'].apply(lambda x: 1 if x=='AT' else 0)\n",
    "df_car['deforest_status'] = df_car['id'].apply(lambda x: 1 if pd.isnull(x) else 0)\n",
    "df_car.groupby(by='validation')['car_status'].value_counts(), df_car.groupby('validation')['deforest_status'].value_counts()\n",
    "df = df.merge(df_car[['geo_id', 'car_status', 'deforest_status']], on='geo_id')"
   ]
  },
  {
   "cell_type": "code",
   "execution_count": 7,
   "metadata": {},
   "outputs": [],
   "source": [
    "df_smartlab = pd.read_parquet(r'c:\\DSSG_CHAR\\Intermediate_Data_Sets\\smartlab_data.parquet')\n",
    "df = df.merge(df_smartlab, on='geo_id')"
   ]
  },
  {
   "cell_type": "code",
   "execution_count": 8,
   "metadata": {},
   "outputs": [],
   "source": [
    "# landover data, 12 category\n",
    "df_landcover = pd.read_csv(r'c:\\DSSG_CHAR\\Intermediate_Data_Sets\\mapbiomas_groups.csv')\n",
    "df_landcover = df_landcover.rename(columns={\"Group\": \"landcover\", 'ID': \"geo_id\"})\n",
    "df_landcover['landcover'] = df_landcover['landcover'].fillna('Unknown')\n",
    "df = df.merge(df_landcover[['geo_id', 'landcover']], on=\"geo_id\")"
   ]
  },
  {
   "cell_type": "code",
   "execution_count": 10,
   "metadata": {},
   "outputs": [
    {
     "data": {
      "text/plain": [
       "\"\\nembeddings = pd.read_parquet(r'c:\\\\DSSG_CHAR\\\\Intermediate_Data_Sets\\\\embeddings.parquet')\\ndf = df.merge(embeddings, on=['x_tile', 'y_tile', 'geo_month', 'geo_year'])\\n\""
      ]
     },
     "execution_count": 10,
     "metadata": {},
     "output_type": "execute_result"
    }
   ],
   "source": [
    "'''\n",
    "embeddings = pd.read_parquet(r'c:\\DSSG_CHAR\\Intermediate_Data_Sets\\embeddings.parquet')\n",
    "df = df.merge(embeddings, on=['x_tile', 'y_tile', 'geo_month', 'geo_year'])\n",
    "'''"
   ]
  },
  {
   "cell_type": "code",
   "execution_count": 11,
   "metadata": {},
   "outputs": [],
   "source": [
    "# exploration / visualizations\n",
    "#df[df['validation']==1]['distance_to_nearest_rural_road'].plot.hist(title='Distance to nearest rural road, TRUE POSITIVES', color='orange')\n",
    "#df[df['validation']==0]['distance_to_nearest_rural_road'].plot.hist(title='Distance to nearest rural road, FALSE POSITIVES')\n",
    "#df[df['validation']==1].sort_values(by= 'distance_to_nearest_rural_road', ascending=False).head(5)\n",
    "#df.groupby('validation')['distance_to_nearest_rural_road'].plot.hist()\n",
    "#df.groupby('validation')['area'].plot.hist()"
   ]
  },
  {
   "cell_type": "code",
   "execution_count": 12,
   "metadata": {},
   "outputs": [],
   "source": [
    "coords = pd.read_csv(r'c:\\DSSG_CHAR\\Intermediate_Data_Sets\\mosaiks\\coordinates.csv')"
   ]
  },
  {
   "cell_type": "code",
   "execution_count": 13,
   "metadata": {},
   "outputs": [],
   "source": [
    "mosaiks = pd.read_csv(r'c:\\DSSG_CHAR\\Intermediate_Data_Sets\\mosaiks\\coordinates\\Mosaiks_features.csv')"
   ]
  },
  {
   "cell_type": "code",
   "execution_count": 14,
   "metadata": {},
   "outputs": [],
   "source": [
    "from scipy.spatial import cKDTree\n",
    "\n",
    "#coords.merge(mosaiks, left_on=['Y', 'X'], right_on=['Lat', 'Lon'])\n",
    "gdf1 = gpd.GeoDataFrame(coords, geometry=gpd.points_from_xy(coords.Y, coords.X))\n",
    "gdf2 = gpd.GeoDataFrame(mosaiks, geometry=gpd.points_from_xy(mosaiks.Lat, mosaiks.Lon))\n",
    "\n",
    "# Extract the coordinates as NumPy arrays\n",
    "coords1 = np.array(list(gdf1.geometry.apply(lambda geom: (geom.x, geom.y))))\n",
    "coords2 = np.array(list(gdf2.geometry.apply(lambda geom: (geom.x, geom.y))))\n",
    "\n",
    "# Create KDTree for fast spatial queries\n",
    "tree = cKDTree(coords2)\n",
    "\n",
    "# Query the closest point in gdf2 for each point in gdf1\n",
    "distances, indices = tree.query(coords1, k=1)\n",
    "\n",
    "# Create a DataFrame to hold the closest matches\n",
    "closest_matches = gdf2.iloc[indices].reset_index(drop=True)\n",
    "closest_matches['distance'] = distances\n",
    "\n",
    "# Join the original gdf1 with the closest_matches\n",
    "df_mosaiks = gdf1.join(closest_matches, lsuffix='_df1', rsuffix='_df2')\n",
    "df_mosaiks = pd.concat([df['geo_id'], df_mosaiks.iloc[:,6:4006]], axis=1)\n",
    "df_mosaiks.columns = df_mosaiks.columns.str.replace(\".\",\"\", regex=False)"
   ]
  },
  {
   "cell_type": "code",
   "execution_count": 16,
   "metadata": {},
   "outputs": [],
   "source": [
    "'''\n",
    "df = df.merge(df_mosaiks, on='geo_id')\n",
    "df.columns = df.columns.astype(str)\n",
    "df = df.rename(columns=lambda x: x.strip())\n",
    "df.columns, len(df)\n",
    "'''"
   ]
  },
  {
   "cell_type": "code",
   "execution_count": 10,
   "metadata": {},
   "outputs": [],
   "source": [
    "from sklearn.linear_model import LogisticRegression, RidgeClassifier, SGDClassifier\n",
    "from sklearn.gaussian_process import GaussianProcessClassifier\n",
    "from sklearn.neural_network import MLPClassifier\n",
    "\n",
    "\n",
    "def train_model(input_df, random_seed):\n",
    "    \"\"\"\n",
    "    train your model!\n",
    "    Inputs: random_seed for reproduceability\n",
    "\n",
    "    Outputs: dict:\n",
    "        model: GridSearchCV trained model pipeline\n",
    "        X: Test set 20%, model never saw this data\n",
    "        Y: Test response\n",
    "        Yhat:  search.best_estimator_[1].predict_proba(Z_test),\n",
    "        'Z_test':Z_test}\n",
    "    \n",
    "    \"\"\"\n",
    "        \n",
    "    #need to expose parameters to config\n",
    "\n",
    "    trees = 400\n",
    "\n",
    "    #models and hyperparameters\n",
    "    model1 = RandomForestClassifier(n_estimators=trees,random_state=random_seed) \n",
    "    model2 = GradientBoostingClassifier(random_state=random_seed) #n_estimators=trees\n",
    "    model3 = HistGradientBoostingClassifier(max_iter=trees,random_state=random_seed) \n",
    "\n",
    "    params1 = {}\n",
    "    params1['classifier__max_depth'] = list(range(4,16, 2))\n",
    "    params1['classifier__max_features'] = [0.1, 0.2,0.3,0.4,0.5, 0.6, 0.7, 0.8]\n",
    "    #params1['classifier__class_weight'] = [None, {0:1,1:5}, {0:1,1:10}] \n",
    "    params1['classifier'] = [model1]\n",
    "\n",
    "    params2 = {}\n",
    "    params2['classifier__max_depth'] = [4,6] #list(range(4, 8, 2))\n",
    "    params2['classifier__learning_rate'] = [0.01, 0.05, 0.1]\n",
    "    params2['classifier__subsample'] = [0.5, 0.75, 1]\n",
    "    params2['classifier__min_samples_split'] = [24, 32]\n",
    "    params2['classifier__n_estimators'] = [trees]#[50, 100, 200, 400, 800, 1600, 3200, 6400]\n",
    "    params2['classifier'] = [model2]\n",
    "\n",
    "    # min_samples_leaf\n",
    "\n",
    "    params3 = {}\n",
    "    params3['classifier__max_depth'] = list(range(4,16, 2))\n",
    "    params3['classifier__learning_rate'] = [0.001, 0.01, 0.05, 0.1,0.2, 0.25]\n",
    "    params3['classifier'] = [model3]\n",
    "\n",
    "    params4 = {}\n",
    "    params4['classifier'] = [MLPClassifier(hidden_layer_sizes=(128,128))] #solver='saga' max_iter=1000\n",
    "    #params4['classifier__penalty'] = ['l1', 'elasticnet']\n",
    "\n",
    "\n",
    "    params = [params2]\n",
    "\n",
    "    vector = [str(i) for i in range(1, 4000)]\n",
    "    \n",
    "    features = {'cont': ['Distance to nearest rural road', 'Distance to nearest watermass',\n",
    "                        'Distance to nearest town', 'Distance to nearest vila',\n",
    "                        'Distance to nearest rural settlements',\n",
    "                        'Distance to nearest mineral extraction point',\n",
    "                        'Distance to nearest landing path', 'Distance to nearest island',\n",
    "                        'Distance to nearest densely infrastructured area',\n",
    "                        'Distance to nearest ibama embargo',\n",
    "                        'Distance to nearest indigenous lands',\n",
    "                        'Distance to nearest official roads',\n",
    "                        'Distance to nearest deforestation permit',\n",
    "                        'Distance to nearest biomas alert', 'Char alerts within 10km',\n",
    "                        'MPB alerts within 10km', 'model_score',\n",
    "                        'literacy rate', 'poverty rate', 'HDI score', 'work alerts', 'rescued workers'], \n",
    "                'cat_cap':['landcover'],\n",
    "                'cat_all':[],\n",
    "                \"bin\": ['car_status', 'deforest_status', 'slave_labour', 'active_search', 'slave_reintegration', 'combat_slave_labour']}\n",
    "    \n",
    "    ct = ColumnTransformer(\n",
    "        [('cont', StandardScaler(),features['cont']),\n",
    "        ('cat_cap', OneHotEncoder(max_categories=20,handle_unknown='infrequent_if_exist',sparse_output=False),features['cat_cap']), \n",
    "        ('cat_all', OneHotEncoder(sparse_output=False),features['cat_all']), \n",
    "        ('bin', 'passthrough',features['bin'])],\n",
    "        remainder='drop',verbose_feature_names_out=True,verbose=True)\n",
    "    pipe = Pipeline([('col',ct),('classifier',model1)]) #don't worry that it only says model1 here\n",
    "    scores = {\"AUC\": \"roc_auc\", \"F1\": make_scorer(f1_score), \n",
    "              \"Recall\": make_scorer(recall_score), \"Precision\": make_scorer(precision_score)} #don't need to do multiple scorers just showing example\n",
    "    sgkf = StratifiedGroupKFold(n_splits=5)\n",
    "    search = GridSearchCV(pipe,params,cv=sgkf,n_jobs=16,scoring=scores,refit=\"F1\",return_train_score=True,verbose=1)\n",
    "\n",
    "    using_data = input_df\n",
    "    \n",
    "    tr_ind, te_ind = (\n",
    "        next(GroupShuffleSplit(n_splits=1,train_size=5/6,random_state=random_seed)\n",
    "             .split(using_data, using_data['validation'].to_numpy(), groups=using_data[['loc']].to_numpy()))\n",
    "        )\n",
    "    X_train = using_data.iloc[tr_ind,:]\n",
    "    X_test = using_data.iloc[te_ind,:]\n",
    "    y_train = using_data.iloc[tr_ind,:]['validation'].to_numpy()\n",
    "    y_test = using_data.iloc[te_ind,:]['validation'].to_numpy()\n",
    "    \n",
    "    search.fit(X_train,y_train, groups=using_data['loc'][tr_ind])\n",
    "\n",
    "    # For TRAIN/TEST split confirms 0 location overlap, balanced labels\n",
    "    train_test_balance = {}\n",
    "    train_test_balance['train label'] = \"{:.4f}\".format(y_train.mean())\n",
    "    train_test_balance['test label'] = \"{:.4f}\".format(y_test.mean())\n",
    "    train_test_balance['location grouping'] = len(X_train.merge(X_test, on='loc'))\n",
    "\n",
    "    # For CROSSVALIDATION split confirms 0 location overlap, balanced labels\n",
    "    cross_val_balance = {}\n",
    "    for fold, (train_idx, test_idx) in enumerate(sgkf.split(X_train,y_train, groups=using_data['loc'][tr_ind])):\n",
    "        cross_val_balance[f\"Fold {fold + 1}\"] = [\"{:.4f}\".format(X_train.iloc[train_idx,:]['validation'].mean()), \n",
    "                                                 \"{:.4f}\".format(X_train.iloc[test_idx,:]['validation'].mean()),\n",
    "                                                 len(X_train.iloc[train_idx,:].merge(X_train.iloc[test_idx,:], on='loc'))]\n",
    "\n",
    "    Z_test = pd.DataFrame(search.best_estimator_[0].transform(X_test))\n",
    "    Z_test.columns = search.best_estimator_[0].get_feature_names_out()\n",
    "    output = {'model':search,'X':X_test,'Y':y_test,'Yhat':search.best_estimator_[1].predict_proba(Z_test),'Z_test':Z_test,\n",
    "              'features': features, 'train_test_balance': train_test_balance, 'cross_val_balance': cross_val_balance}\n",
    "    return output\n",
    "        "
   ]
  },
  {
   "cell_type": "code",
   "execution_count": 11,
   "metadata": {},
   "outputs": [
    {
     "name": "stdout",
     "output_type": "stream",
     "text": [
      "Fitting 5 folds for each of 36 candidates, totalling 180 fits\n",
      "[ColumnTransformer] .......... (1 of 3) Processing cont, total=   0.0s\n",
      "[ColumnTransformer] ....... (2 of 3) Processing cat_cap, total=   0.0s\n",
      "[ColumnTransformer] ........... (3 of 3) Processing bin, total=   0.0s\n"
     ]
    },
    {
     "name": "stderr",
     "output_type": "stream",
     "text": [
      "c:\\Users\\kylershu\\.conda\\envs\\dssg_dev\\Lib\\site-packages\\sklearn\\base.py:486: UserWarning: X has feature names, but GradientBoostingClassifier was fitted without feature names\n",
      "  warnings.warn(\n"
     ]
    },
    {
     "data": {
      "text/plain": [
       "\"\\n#saving results\\ngridcv = pd.DataFrame(test_run['model'].cv_results_)\\ngridcv.to_csv('gridcv' + str(date.today()) + '.csv')\\nfilename = 'best_model' + str(date.today()) + '.sav'\\npickle.dump(test_run['model'], open(filename, 'wb'))\\n\""
      ]
     },
     "execution_count": 11,
     "metadata": {},
     "output_type": "execute_result"
    }
   ],
   "source": [
    "from datetime import date\n",
    "\n",
    "test_run = train_model(df, random_seed=1)\n",
    "'''\n",
    "#saving results\n",
    "gridcv = pd.DataFrame(test_run['model'].cv_results_)\n",
    "gridcv.to_csv('gridcv' + str(date.today()) + '.csv')\n",
    "filename = 'best_model' + str(date.today()) + '.sav'\n",
    "pickle.dump(test_run['model'], open(filename, 'wb'))\n",
    "'''"
   ]
  },
  {
   "cell_type": "code",
   "execution_count": 12,
   "metadata": {},
   "outputs": [
    {
     "data": {
      "text/html": [
       "<div>\n",
       "<style scoped>\n",
       "    .dataframe tbody tr th:only-of-type {\n",
       "        vertical-align: middle;\n",
       "    }\n",
       "\n",
       "    .dataframe tbody tr th {\n",
       "        vertical-align: top;\n",
       "    }\n",
       "\n",
       "    .dataframe thead th {\n",
       "        text-align: right;\n",
       "    }\n",
       "</style>\n",
       "<table border=\"1\" class=\"dataframe\">\n",
       "  <thead>\n",
       "    <tr style=\"text-align: right;\">\n",
       "      <th></th>\n",
       "      <th>param_classifier</th>\n",
       "      <th>mean_train_F1</th>\n",
       "      <th>mean_test_AUC</th>\n",
       "      <th>mean_test_F1</th>\n",
       "      <th>mean_test_Precision</th>\n",
       "      <th>mean_test_Recall</th>\n",
       "    </tr>\n",
       "  </thead>\n",
       "  <tbody>\n",
       "    <tr>\n",
       "      <th>15</th>\n",
       "      <td>GradientBoostingClassifier(random_state=1)</td>\n",
       "      <td>0.993449</td>\n",
       "      <td>0.935818</td>\n",
       "      <td>0.555300</td>\n",
       "      <td>0.798148</td>\n",
       "      <td>0.437149</td>\n",
       "    </tr>\n",
       "    <tr>\n",
       "      <th>16</th>\n",
       "      <td>GradientBoostingClassifier(random_state=1)</td>\n",
       "      <td>0.999112</td>\n",
       "      <td>0.938618</td>\n",
       "      <td>0.538389</td>\n",
       "      <td>0.808175</td>\n",
       "      <td>0.416279</td>\n",
       "    </tr>\n",
       "    <tr>\n",
       "      <th>24</th>\n",
       "      <td>GradientBoostingClassifier(random_state=1)</td>\n",
       "      <td>1.000000</td>\n",
       "      <td>0.934234</td>\n",
       "      <td>0.533265</td>\n",
       "      <td>0.821252</td>\n",
       "      <td>0.399014</td>\n",
       "    </tr>\n",
       "  </tbody>\n",
       "</table>\n",
       "</div>"
      ],
      "text/plain": [
       "                              param_classifier  mean_train_F1  mean_test_AUC  \\\n",
       "15  GradientBoostingClassifier(random_state=1)       0.993449       0.935818   \n",
       "16  GradientBoostingClassifier(random_state=1)       0.999112       0.938618   \n",
       "24  GradientBoostingClassifier(random_state=1)       1.000000       0.934234   \n",
       "\n",
       "    mean_test_F1  mean_test_Precision  mean_test_Recall  \n",
       "15      0.555300             0.798148          0.437149  \n",
       "16      0.538389             0.808175          0.416279  \n",
       "24      0.533265             0.821252          0.399014  "
      ]
     },
     "execution_count": 12,
     "metadata": {},
     "output_type": "execute_result"
    }
   ],
   "source": [
    "metrics = ['param_classifier','mean_train_F1', 'mean_test_AUC', 'mean_test_F1', 'mean_test_Precision','mean_test_Recall']\n",
    "hyperparameters = ['param_classifier', 'param_classifier__max_depth', 'param_classifier__max_features', 'param_classifier__learning_rate',\n",
    "       'param_classifier__min_samples_split', 'param_classifier__subsample',]\n",
    "pd.DataFrame(test_run['model'].cv_results_).sort_values(by='mean_test_F1', ascending=False).head(3)[metrics]"
   ]
  },
  {
   "cell_type": "code",
   "execution_count": 16,
   "metadata": {},
   "outputs": [
    {
     "name": "stdout",
     "output_type": "stream",
     "text": [
      "F1 Score: \t 0.7172413793103448\n",
      "Precision: \t 0.6582278481012658\n",
      "Recall: \t 0.7878787878787878\n"
     ]
    }
   ],
   "source": [
    "threshold = 0.25\n",
    "print('F1 Score: \\t', f1_score(test_run[\"Y\"],(test_run['Yhat'][:,1] > threshold)))\n",
    "print('Precision: \\t', precision_score(test_run[\"Y\"],(test_run['Yhat'][:,1] > threshold)))\n",
    "print('Recall: \\t', recall_score(test_run[\"Y\"],(test_run['Yhat'][:,1] > threshold)))"
   ]
  },
  {
   "cell_type": "code",
   "execution_count": 17,
   "metadata": {},
   "outputs": [
    {
     "data": {
      "text/plain": [
       "{'train label': '0.0957', 'test label': '0.0753', 'location grouping': 0}"
      ]
     },
     "execution_count": 17,
     "metadata": {},
     "output_type": "execute_result"
    }
   ],
   "source": [
    "# For TRAIN/TEST split confirms balanced labels and 0 location overlap\n",
    "test_run['train_test_balance']"
   ]
  },
  {
   "cell_type": "code",
   "execution_count": 18,
   "metadata": {},
   "outputs": [
    {
     "data": {
      "text/plain": [
       "{'Fold 1': ['0.0957', '0.0957', 0],\n",
       " 'Fold 2': ['0.0959', '0.0945', 0],\n",
       " 'Fold 3': ['0.0953', '0.0973', 0],\n",
       " 'Fold 4': ['0.0955', '0.0963', 0],\n",
       " 'Fold 5': ['0.0959', '0.0945', 0]}"
      ]
     },
     "execution_count": 18,
     "metadata": {},
     "output_type": "execute_result"
    }
   ],
   "source": [
    "# For CROSSVALIDATION split confirms balanced labels and 0 location overlap\n",
    "test_run['cross_val_balance']"
   ]
  },
  {
   "cell_type": "code",
   "execution_count": 20,
   "metadata": {},
   "outputs": [
    {
     "ename": "NameError",
     "evalue": "name 'gridcv' is not defined",
     "output_type": "error",
     "traceback": [
      "\u001b[1;31m---------------------------------------------------------------------------\u001b[0m",
      "\u001b[1;31mNameError\u001b[0m                                 Traceback (most recent call last)",
      "Cell \u001b[1;32mIn[20], line 1\u001b[0m\n\u001b[1;32m----> 1\u001b[0m sns\u001b[38;5;241m.\u001b[39mboxplot(x\u001b[38;5;241m=\u001b[39m\u001b[38;5;124m'\u001b[39m\u001b[38;5;124mparam_classifier_subsample\u001b[39m\u001b[38;5;124m'\u001b[39m, y\u001b[38;5;241m=\u001b[39m\u001b[38;5;124m'\u001b[39m\u001b[38;5;124mmean_test_F1\u001b[39m\u001b[38;5;124m'\u001b[39m, data\u001b[38;5;241m=\u001b[39mgridcv)\n",
      "\u001b[1;31mNameError\u001b[0m: name 'gridcv' is not defined"
     ]
    }
   ],
   "source": [
    "sns.boxplot(x='param_classifier_subsample', y='mean_test_F1', data=gridcv)"
   ]
  },
  {
   "cell_type": "code",
   "execution_count": 21,
   "metadata": {},
   "outputs": [
    {
     "data": {
      "text/html": [
       "<style>#sk-container-id-1 {\n",
       "  /* Definition of color scheme common for light and dark mode */\n",
       "  --sklearn-color-text: black;\n",
       "  --sklearn-color-line: gray;\n",
       "  /* Definition of color scheme for unfitted estimators */\n",
       "  --sklearn-color-unfitted-level-0: #fff5e6;\n",
       "  --sklearn-color-unfitted-level-1: #f6e4d2;\n",
       "  --sklearn-color-unfitted-level-2: #ffe0b3;\n",
       "  --sklearn-color-unfitted-level-3: chocolate;\n",
       "  /* Definition of color scheme for fitted estimators */\n",
       "  --sklearn-color-fitted-level-0: #f0f8ff;\n",
       "  --sklearn-color-fitted-level-1: #d4ebff;\n",
       "  --sklearn-color-fitted-level-2: #b3dbfd;\n",
       "  --sklearn-color-fitted-level-3: cornflowerblue;\n",
       "\n",
       "  /* Specific color for light theme */\n",
       "  --sklearn-color-text-on-default-background: var(--sg-text-color, var(--theme-code-foreground, var(--jp-content-font-color1, black)));\n",
       "  --sklearn-color-background: var(--sg-background-color, var(--theme-background, var(--jp-layout-color0, white)));\n",
       "  --sklearn-color-border-box: var(--sg-text-color, var(--theme-code-foreground, var(--jp-content-font-color1, black)));\n",
       "  --sklearn-color-icon: #696969;\n",
       "\n",
       "  @media (prefers-color-scheme: dark) {\n",
       "    /* Redefinition of color scheme for dark theme */\n",
       "    --sklearn-color-text-on-default-background: var(--sg-text-color, var(--theme-code-foreground, var(--jp-content-font-color1, white)));\n",
       "    --sklearn-color-background: var(--sg-background-color, var(--theme-background, var(--jp-layout-color0, #111)));\n",
       "    --sklearn-color-border-box: var(--sg-text-color, var(--theme-code-foreground, var(--jp-content-font-color1, white)));\n",
       "    --sklearn-color-icon: #878787;\n",
       "  }\n",
       "}\n",
       "\n",
       "#sk-container-id-1 {\n",
       "  color: var(--sklearn-color-text);\n",
       "}\n",
       "\n",
       "#sk-container-id-1 pre {\n",
       "  padding: 0;\n",
       "}\n",
       "\n",
       "#sk-container-id-1 input.sk-hidden--visually {\n",
       "  border: 0;\n",
       "  clip: rect(1px 1px 1px 1px);\n",
       "  clip: rect(1px, 1px, 1px, 1px);\n",
       "  height: 1px;\n",
       "  margin: -1px;\n",
       "  overflow: hidden;\n",
       "  padding: 0;\n",
       "  position: absolute;\n",
       "  width: 1px;\n",
       "}\n",
       "\n",
       "#sk-container-id-1 div.sk-dashed-wrapped {\n",
       "  border: 1px dashed var(--sklearn-color-line);\n",
       "  margin: 0 0.4em 0.5em 0.4em;\n",
       "  box-sizing: border-box;\n",
       "  padding-bottom: 0.4em;\n",
       "  background-color: var(--sklearn-color-background);\n",
       "}\n",
       "\n",
       "#sk-container-id-1 div.sk-container {\n",
       "  /* jupyter's `normalize.less` sets `[hidden] { display: none; }`\n",
       "     but bootstrap.min.css set `[hidden] { display: none !important; }`\n",
       "     so we also need the `!important` here to be able to override the\n",
       "     default hidden behavior on the sphinx rendered scikit-learn.org.\n",
       "     See: https://github.com/scikit-learn/scikit-learn/issues/21755 */\n",
       "  display: inline-block !important;\n",
       "  position: relative;\n",
       "}\n",
       "\n",
       "#sk-container-id-1 div.sk-text-repr-fallback {\n",
       "  display: none;\n",
       "}\n",
       "\n",
       "div.sk-parallel-item,\n",
       "div.sk-serial,\n",
       "div.sk-item {\n",
       "  /* draw centered vertical line to link estimators */\n",
       "  background-image: linear-gradient(var(--sklearn-color-text-on-default-background), var(--sklearn-color-text-on-default-background));\n",
       "  background-size: 2px 100%;\n",
       "  background-repeat: no-repeat;\n",
       "  background-position: center center;\n",
       "}\n",
       "\n",
       "/* Parallel-specific style estimator block */\n",
       "\n",
       "#sk-container-id-1 div.sk-parallel-item::after {\n",
       "  content: \"\";\n",
       "  width: 100%;\n",
       "  border-bottom: 2px solid var(--sklearn-color-text-on-default-background);\n",
       "  flex-grow: 1;\n",
       "}\n",
       "\n",
       "#sk-container-id-1 div.sk-parallel {\n",
       "  display: flex;\n",
       "  align-items: stretch;\n",
       "  justify-content: center;\n",
       "  background-color: var(--sklearn-color-background);\n",
       "  position: relative;\n",
       "}\n",
       "\n",
       "#sk-container-id-1 div.sk-parallel-item {\n",
       "  display: flex;\n",
       "  flex-direction: column;\n",
       "}\n",
       "\n",
       "#sk-container-id-1 div.sk-parallel-item:first-child::after {\n",
       "  align-self: flex-end;\n",
       "  width: 50%;\n",
       "}\n",
       "\n",
       "#sk-container-id-1 div.sk-parallel-item:last-child::after {\n",
       "  align-self: flex-start;\n",
       "  width: 50%;\n",
       "}\n",
       "\n",
       "#sk-container-id-1 div.sk-parallel-item:only-child::after {\n",
       "  width: 0;\n",
       "}\n",
       "\n",
       "/* Serial-specific style estimator block */\n",
       "\n",
       "#sk-container-id-1 div.sk-serial {\n",
       "  display: flex;\n",
       "  flex-direction: column;\n",
       "  align-items: center;\n",
       "  background-color: var(--sklearn-color-background);\n",
       "  padding-right: 1em;\n",
       "  padding-left: 1em;\n",
       "}\n",
       "\n",
       "\n",
       "/* Toggleable style: style used for estimator/Pipeline/ColumnTransformer box that is\n",
       "clickable and can be expanded/collapsed.\n",
       "- Pipeline and ColumnTransformer use this feature and define the default style\n",
       "- Estimators will overwrite some part of the style using the `sk-estimator` class\n",
       "*/\n",
       "\n",
       "/* Pipeline and ColumnTransformer style (default) */\n",
       "\n",
       "#sk-container-id-1 div.sk-toggleable {\n",
       "  /* Default theme specific background. It is overwritten whether we have a\n",
       "  specific estimator or a Pipeline/ColumnTransformer */\n",
       "  background-color: var(--sklearn-color-background);\n",
       "}\n",
       "\n",
       "/* Toggleable label */\n",
       "#sk-container-id-1 label.sk-toggleable__label {\n",
       "  cursor: pointer;\n",
       "  display: block;\n",
       "  width: 100%;\n",
       "  margin-bottom: 0;\n",
       "  padding: 0.5em;\n",
       "  box-sizing: border-box;\n",
       "  text-align: center;\n",
       "}\n",
       "\n",
       "#sk-container-id-1 label.sk-toggleable__label-arrow:before {\n",
       "  /* Arrow on the left of the label */\n",
       "  content: \"▸\";\n",
       "  float: left;\n",
       "  margin-right: 0.25em;\n",
       "  color: var(--sklearn-color-icon);\n",
       "}\n",
       "\n",
       "#sk-container-id-1 label.sk-toggleable__label-arrow:hover:before {\n",
       "  color: var(--sklearn-color-text);\n",
       "}\n",
       "\n",
       "/* Toggleable content - dropdown */\n",
       "\n",
       "#sk-container-id-1 div.sk-toggleable__content {\n",
       "  max-height: 0;\n",
       "  max-width: 0;\n",
       "  overflow: hidden;\n",
       "  text-align: left;\n",
       "  /* unfitted */\n",
       "  background-color: var(--sklearn-color-unfitted-level-0);\n",
       "}\n",
       "\n",
       "#sk-container-id-1 div.sk-toggleable__content.fitted {\n",
       "  /* fitted */\n",
       "  background-color: var(--sklearn-color-fitted-level-0);\n",
       "}\n",
       "\n",
       "#sk-container-id-1 div.sk-toggleable__content pre {\n",
       "  margin: 0.2em;\n",
       "  border-radius: 0.25em;\n",
       "  color: var(--sklearn-color-text);\n",
       "  /* unfitted */\n",
       "  background-color: var(--sklearn-color-unfitted-level-0);\n",
       "}\n",
       "\n",
       "#sk-container-id-1 div.sk-toggleable__content.fitted pre {\n",
       "  /* unfitted */\n",
       "  background-color: var(--sklearn-color-fitted-level-0);\n",
       "}\n",
       "\n",
       "#sk-container-id-1 input.sk-toggleable__control:checked~div.sk-toggleable__content {\n",
       "  /* Expand drop-down */\n",
       "  max-height: 200px;\n",
       "  max-width: 100%;\n",
       "  overflow: auto;\n",
       "}\n",
       "\n",
       "#sk-container-id-1 input.sk-toggleable__control:checked~label.sk-toggleable__label-arrow:before {\n",
       "  content: \"▾\";\n",
       "}\n",
       "\n",
       "/* Pipeline/ColumnTransformer-specific style */\n",
       "\n",
       "#sk-container-id-1 div.sk-label input.sk-toggleable__control:checked~label.sk-toggleable__label {\n",
       "  color: var(--sklearn-color-text);\n",
       "  background-color: var(--sklearn-color-unfitted-level-2);\n",
       "}\n",
       "\n",
       "#sk-container-id-1 div.sk-label.fitted input.sk-toggleable__control:checked~label.sk-toggleable__label {\n",
       "  background-color: var(--sklearn-color-fitted-level-2);\n",
       "}\n",
       "\n",
       "/* Estimator-specific style */\n",
       "\n",
       "/* Colorize estimator box */\n",
       "#sk-container-id-1 div.sk-estimator input.sk-toggleable__control:checked~label.sk-toggleable__label {\n",
       "  /* unfitted */\n",
       "  background-color: var(--sklearn-color-unfitted-level-2);\n",
       "}\n",
       "\n",
       "#sk-container-id-1 div.sk-estimator.fitted input.sk-toggleable__control:checked~label.sk-toggleable__label {\n",
       "  /* fitted */\n",
       "  background-color: var(--sklearn-color-fitted-level-2);\n",
       "}\n",
       "\n",
       "#sk-container-id-1 div.sk-label label.sk-toggleable__label,\n",
       "#sk-container-id-1 div.sk-label label {\n",
       "  /* The background is the default theme color */\n",
       "  color: var(--sklearn-color-text-on-default-background);\n",
       "}\n",
       "\n",
       "/* On hover, darken the color of the background */\n",
       "#sk-container-id-1 div.sk-label:hover label.sk-toggleable__label {\n",
       "  color: var(--sklearn-color-text);\n",
       "  background-color: var(--sklearn-color-unfitted-level-2);\n",
       "}\n",
       "\n",
       "/* Label box, darken color on hover, fitted */\n",
       "#sk-container-id-1 div.sk-label.fitted:hover label.sk-toggleable__label.fitted {\n",
       "  color: var(--sklearn-color-text);\n",
       "  background-color: var(--sklearn-color-fitted-level-2);\n",
       "}\n",
       "\n",
       "/* Estimator label */\n",
       "\n",
       "#sk-container-id-1 div.sk-label label {\n",
       "  font-family: monospace;\n",
       "  font-weight: bold;\n",
       "  display: inline-block;\n",
       "  line-height: 1.2em;\n",
       "}\n",
       "\n",
       "#sk-container-id-1 div.sk-label-container {\n",
       "  text-align: center;\n",
       "}\n",
       "\n",
       "/* Estimator-specific */\n",
       "#sk-container-id-1 div.sk-estimator {\n",
       "  font-family: monospace;\n",
       "  border: 1px dotted var(--sklearn-color-border-box);\n",
       "  border-radius: 0.25em;\n",
       "  box-sizing: border-box;\n",
       "  margin-bottom: 0.5em;\n",
       "  /* unfitted */\n",
       "  background-color: var(--sklearn-color-unfitted-level-0);\n",
       "}\n",
       "\n",
       "#sk-container-id-1 div.sk-estimator.fitted {\n",
       "  /* fitted */\n",
       "  background-color: var(--sklearn-color-fitted-level-0);\n",
       "}\n",
       "\n",
       "/* on hover */\n",
       "#sk-container-id-1 div.sk-estimator:hover {\n",
       "  /* unfitted */\n",
       "  background-color: var(--sklearn-color-unfitted-level-2);\n",
       "}\n",
       "\n",
       "#sk-container-id-1 div.sk-estimator.fitted:hover {\n",
       "  /* fitted */\n",
       "  background-color: var(--sklearn-color-fitted-level-2);\n",
       "}\n",
       "\n",
       "/* Specification for estimator info (e.g. \"i\" and \"?\") */\n",
       "\n",
       "/* Common style for \"i\" and \"?\" */\n",
       "\n",
       ".sk-estimator-doc-link,\n",
       "a:link.sk-estimator-doc-link,\n",
       "a:visited.sk-estimator-doc-link {\n",
       "  float: right;\n",
       "  font-size: smaller;\n",
       "  line-height: 1em;\n",
       "  font-family: monospace;\n",
       "  background-color: var(--sklearn-color-background);\n",
       "  border-radius: 1em;\n",
       "  height: 1em;\n",
       "  width: 1em;\n",
       "  text-decoration: none !important;\n",
       "  margin-left: 1ex;\n",
       "  /* unfitted */\n",
       "  border: var(--sklearn-color-unfitted-level-1) 1pt solid;\n",
       "  color: var(--sklearn-color-unfitted-level-1);\n",
       "}\n",
       "\n",
       ".sk-estimator-doc-link.fitted,\n",
       "a:link.sk-estimator-doc-link.fitted,\n",
       "a:visited.sk-estimator-doc-link.fitted {\n",
       "  /* fitted */\n",
       "  border: var(--sklearn-color-fitted-level-1) 1pt solid;\n",
       "  color: var(--sklearn-color-fitted-level-1);\n",
       "}\n",
       "\n",
       "/* On hover */\n",
       "div.sk-estimator:hover .sk-estimator-doc-link:hover,\n",
       ".sk-estimator-doc-link:hover,\n",
       "div.sk-label-container:hover .sk-estimator-doc-link:hover,\n",
       ".sk-estimator-doc-link:hover {\n",
       "  /* unfitted */\n",
       "  background-color: var(--sklearn-color-unfitted-level-3);\n",
       "  color: var(--sklearn-color-background);\n",
       "  text-decoration: none;\n",
       "}\n",
       "\n",
       "div.sk-estimator.fitted:hover .sk-estimator-doc-link.fitted:hover,\n",
       ".sk-estimator-doc-link.fitted:hover,\n",
       "div.sk-label-container:hover .sk-estimator-doc-link.fitted:hover,\n",
       ".sk-estimator-doc-link.fitted:hover {\n",
       "  /* fitted */\n",
       "  background-color: var(--sklearn-color-fitted-level-3);\n",
       "  color: var(--sklearn-color-background);\n",
       "  text-decoration: none;\n",
       "}\n",
       "\n",
       "/* Span, style for the box shown on hovering the info icon */\n",
       ".sk-estimator-doc-link span {\n",
       "  display: none;\n",
       "  z-index: 9999;\n",
       "  position: relative;\n",
       "  font-weight: normal;\n",
       "  right: .2ex;\n",
       "  padding: .5ex;\n",
       "  margin: .5ex;\n",
       "  width: min-content;\n",
       "  min-width: 20ex;\n",
       "  max-width: 50ex;\n",
       "  color: var(--sklearn-color-text);\n",
       "  box-shadow: 2pt 2pt 4pt #999;\n",
       "  /* unfitted */\n",
       "  background: var(--sklearn-color-unfitted-level-0);\n",
       "  border: .5pt solid var(--sklearn-color-unfitted-level-3);\n",
       "}\n",
       "\n",
       ".sk-estimator-doc-link.fitted span {\n",
       "  /* fitted */\n",
       "  background: var(--sklearn-color-fitted-level-0);\n",
       "  border: var(--sklearn-color-fitted-level-3);\n",
       "}\n",
       "\n",
       ".sk-estimator-doc-link:hover span {\n",
       "  display: block;\n",
       "}\n",
       "\n",
       "/* \"?\"-specific style due to the `<a>` HTML tag */\n",
       "\n",
       "#sk-container-id-1 a.estimator_doc_link {\n",
       "  float: right;\n",
       "  font-size: 1rem;\n",
       "  line-height: 1em;\n",
       "  font-family: monospace;\n",
       "  background-color: var(--sklearn-color-background);\n",
       "  border-radius: 1rem;\n",
       "  height: 1rem;\n",
       "  width: 1rem;\n",
       "  text-decoration: none;\n",
       "  /* unfitted */\n",
       "  color: var(--sklearn-color-unfitted-level-1);\n",
       "  border: var(--sklearn-color-unfitted-level-1) 1pt solid;\n",
       "}\n",
       "\n",
       "#sk-container-id-1 a.estimator_doc_link.fitted {\n",
       "  /* fitted */\n",
       "  border: var(--sklearn-color-fitted-level-1) 1pt solid;\n",
       "  color: var(--sklearn-color-fitted-level-1);\n",
       "}\n",
       "\n",
       "/* On hover */\n",
       "#sk-container-id-1 a.estimator_doc_link:hover {\n",
       "  /* unfitted */\n",
       "  background-color: var(--sklearn-color-unfitted-level-3);\n",
       "  color: var(--sklearn-color-background);\n",
       "  text-decoration: none;\n",
       "}\n",
       "\n",
       "#sk-container-id-1 a.estimator_doc_link.fitted:hover {\n",
       "  /* fitted */\n",
       "  background-color: var(--sklearn-color-fitted-level-3);\n",
       "}\n",
       "</style><div id=\"sk-container-id-1\" class=\"sk-top-container\"><div class=\"sk-text-repr-fallback\"><pre>GradientBoostingClassifier(learning_rate=0.05, max_depth=4,\n",
       "                           min_samples_split=32, n_estimators=400,\n",
       "                           random_state=1, subsample=0.5)</pre><b>In a Jupyter environment, please rerun this cell to show the HTML representation or trust the notebook. <br />On GitHub, the HTML representation is unable to render, please try loading this page with nbviewer.org.</b></div><div class=\"sk-container\" hidden><div class=\"sk-item\"><div class=\"sk-estimator fitted sk-toggleable\"><input class=\"sk-toggleable__control sk-hidden--visually\" id=\"sk-estimator-id-1\" type=\"checkbox\" checked><label for=\"sk-estimator-id-1\" class=\"sk-toggleable__label fitted sk-toggleable__label-arrow fitted\">&nbsp;&nbsp;GradientBoostingClassifier<a class=\"sk-estimator-doc-link fitted\" rel=\"noreferrer\" target=\"_blank\" href=\"https://scikit-learn.org/1.5/modules/generated/sklearn.ensemble.GradientBoostingClassifier.html\">?<span>Documentation for GradientBoostingClassifier</span></a><span class=\"sk-estimator-doc-link fitted\">i<span>Fitted</span></span></label><div class=\"sk-toggleable__content fitted\"><pre>GradientBoostingClassifier(learning_rate=0.05, max_depth=4,\n",
       "                           min_samples_split=32, n_estimators=400,\n",
       "                           random_state=1, subsample=0.5)</pre></div> </div></div></div></div>"
      ],
      "text/plain": [
       "GradientBoostingClassifier(learning_rate=0.05, max_depth=4,\n",
       "                           min_samples_split=32, n_estimators=400,\n",
       "                           random_state=1, subsample=0.5)"
      ]
     },
     "execution_count": 21,
     "metadata": {},
     "output_type": "execute_result"
    }
   ],
   "source": [
    "test_run['model'].best_estimator_[1]"
   ]
  },
  {
   "cell_type": "code",
   "execution_count": 291,
   "metadata": {},
   "outputs": [
    {
     "name": "stderr",
     "output_type": "stream",
     "text": [
      "c:\\Users\\kylershu\\.conda\\envs\\dssg_dev\\Lib\\site-packages\\sklearn\\base.py:486: UserWarning: X has feature names, but GradientBoostingClassifier was fitted without feature names\n",
      "  warnings.warn(\n"
     ]
    },
    {
     "data": {
      "text/plain": [
       "<Axes: xlabel='proba', ylabel='Count'>"
      ]
     },
     "execution_count": 291,
     "metadata": {},
     "output_type": "execute_result"
    },
    {
     "data": {
      "image/png": "[encoded data removed]",
      "text/plain": [
       "<Figure size 640x480 with 1 Axes>"
      ]
     },
     "metadata": {},
     "output_type": "display_data"
    }
   ],
   "source": [
    "proba = pd.DataFrame(columns=['proba'], data=test_run['model'].best_estimator_[1].predict_proba(test_run['Z_test'])[:, 1])\n",
    "#proba['validation'] = test_run['Y']\n",
    "#sns.histplot(data=proba[proba['validation']==1], x=\"proba\", color='orange')\n",
    "sns.histplot(data=proba, x=\"proba\", bins=20, color='grey')\n",
    "\n"
   ]
  },
  {
   "cell_type": "code",
   "execution_count": 41,
   "metadata": {},
   "outputs": [
    {
     "data": {
      "text/plain": [
       "<sklearn.metrics._plot.roc_curve.RocCurveDisplay at 0x2a750a0a710>"
      ]
     },
     "execution_count": 41,
     "metadata": {},
     "output_type": "execute_result"
    },
    {
     "data": {
      "image/png": "[encoded data removed]",
      "text/plain": [
       "<Figure size 640x480 with 1 Axes>"
      ]
     },
     "metadata": {},
     "output_type": "display_data"
    }
   ],
   "source": [
    "RocCurveDisplay.from_predictions(test_run['Y'], test_run['Yhat'][:,1])\n",
    "#plt.show()"
   ]
  },
  {
   "cell_type": "code",
   "execution_count": 42,
   "metadata": {},
   "outputs": [],
   "source": [
    "# aggregate shap values on 20% holdout set\n",
    "explainer = shap.TreeExplainer(test_run['model'].best_estimator_[1])\n",
    "labels = test_run['features']['cont'] + list(test_run['model'].best_estimator_[0]['cat_cap'].categories_[0]) +  test_run['features']['bin']\n",
    "X_test = pd.DataFrame(columns=labels, data=test_run['model'].best_estimator_[0].transform(test_run['X']))\n",
    "shap_values = explainer(X_test)\n",
    "#shap.summary_plot(shap_values, X_test, max_display=30)"
   ]
  },
  {
   "cell_type": "code",
   "execution_count": 43,
   "metadata": {},
   "outputs": [
    {
     "data": {
      "image/png": "[encoded data removed]",
      "text/plain": [
       "<Figure size 800x650 with 1 Axes>"
      ]
     },
     "metadata": {},
     "output_type": "display_data"
    }
   ],
   "source": [
    "shap.plots.bar(shap_values, show=False)\n",
    "#plt.savefig(\"shap_summary.png\",dpi=600, transparent=True, bbox_inches='tight') #.png,.pdf will also support here\n",
    "plt.title(\"Global SHAP Values\")\n",
    "plt.show()"
   ]
  },
  {
   "cell_type": "code",
   "execution_count": 298,
   "metadata": {},
   "outputs": [
    {
     "data": {
      "text/plain": [
       "<Axes: >"
      ]
     },
     "execution_count": 298,
     "metadata": {},
     "output_type": "execute_result"
    },
    {
     "data": {
      "image/png": "[encoded data removed]",
      "text/plain": [
       "<Figure size 640x480 with 1 Axes>"
      ]
     },
     "metadata": {},
     "output_type": "display_data"
    }
   ],
   "source": [
    "# built-in feature importance from gradient boost classifier\n",
    "labels = test_run['features']['cont'] + list(test_run['model'].best_estimator_[0]['cat_cap'].categories_[0]) +  test_run['features']['bin']\n",
    "\n",
    "pd.DataFrame(index = labels, data= test_run['model'].best_estimator_[1].feature_importances_).sort_values(by=0, ascending=False)[:10].sort_values(by=0).plot.barh(legend=False)\n",
    "#plt.savefig('feature_importance.png', transparent=True, dpi=600, bbox_inches='tight')"
   ]
  }
 ],
 "metadata": {
  "kernelspec": {
   "display_name": "dssg_dev",
   "language": "python",
   "name": "python3"
  },
  "language_info": {
   "codemirror_mode": {
    "name": "ipython",
    "version": 3
   },
   "file_extension": ".py",
   "mimetype": "text/x-python",
   "name": "python",
   "nbconvert_exporter": "python",
   "pygments_lexer": "ipython3",
   "version": "3.11.9"
  }
 },
 "nbformat": 4,
 "nbformat_minor": 2
}
